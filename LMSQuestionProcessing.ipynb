{
 "cells": [
  {
   "cell_type": "code",
   "execution_count": 1,
   "id": "344163ca",
   "metadata": {},
   "outputs": [],
   "source": [
    "import tex2lms\n",
    "\n",
    "lmsaddr=\"https://lms.uwa.edu.au/bbcswebdav/courses/MATH2021_SEM-1_2022/classtest1_teximg/\""
   ]
  },
  {
   "cell_type": "code",
   "execution_count": 2,
   "id": "0b1fd44d",
   "metadata": {},
   "outputs": [
    {
     "name": "stdout",
     "output_type": "stream",
     "text": [
      "Processing sheet 0 EUT - Regions\n",
      "Creating/updating folder eut/\n",
      "Processing sheet 1 Higher-order DEs to systems\n",
      "Creating/updating folder high-to-system/\n",
      "Processing sheet 2 Systems to higher-order DEs\n",
      "Creating/updating folder System-to-high/\n",
      "Processing sheet 3 Exact DEs\n",
      "Creating/updating folder exact-de/\n",
      "Processing sheet 4 Wronskian of two functions\n",
      "Creating/updating folder wronskian/\n"
     ]
    }
   ],
   "source": [
    "tex2lms.process_mcq_spreadsheet(\"test_1_2022-1_MCQ.ods\",lms_url=lmsaddr,image_resolution=\"200\")"
   ]
  },
  {
   "cell_type": "code",
   "execution_count": 4,
   "id": "a1544126",
   "metadata": {},
   "outputs": [
    {
     "name": "stdout",
     "output_type": "stream",
     "text": [
      "Creating new spreadsheet with minimal columns to make a pool of MCQ questions\n",
      "Written template_mcq_database.ods\n",
      "Processing sheet 0 Sheet1\n",
      "Creating/updating folder prefix-without-spaces/\n"
     ]
    }
   ],
   "source": [
    "tex2lms.make_template_spreadsheet()\n",
    "tex2lms.process_mcq_spreadsheet(\"template_mcq_database.ods\",lms_url=\"http://testing.com/\",image_resolution=\"200\")"
   ]
  },
  {
   "cell_type": "code",
   "execution_count": null,
   "id": "polish-economy",
   "metadata": {},
   "outputs": [],
   "source": []
  }
 ],
 "metadata": {
  "kernelspec": {
   "display_name": "Python 3",
   "language": "python",
   "name": "python3"
  },
  "language_info": {
   "codemirror_mode": {
    "name": "ipython",
    "version": 3
   },
   "file_extension": ".py",
   "mimetype": "text/x-python",
   "name": "python",
   "nbconvert_exporter": "python",
   "pygments_lexer": "ipython3",
   "version": "3.9.7"
  }
 },
 "nbformat": 4,
 "nbformat_minor": 5
}
