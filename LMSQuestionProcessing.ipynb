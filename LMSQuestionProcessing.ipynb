{
 "cells": [
  {
   "cell_type": "code",
   "execution_count": 1,
   "id": "344163ca",
   "metadata": {},
   "outputs": [],
   "source": [
    "import tex2lms\n",
    "\n",
    "lmsaddr=\"https://lms.uwa.edu.au/bbcswebdav/courses/MATH2021_SEM-1_2022/classtest1_teximg/\""
   ]
  },
  {
   "cell_type": "code",
   "execution_count": 2,
   "id": "0b1fd44d",
   "metadata": {},
   "outputs": [
    {
     "name": "stdout",
     "output_type": "stream",
     "text": [
      "Processing sheet 0 Direction Field DE to Plots\n",
      "Creating/updating folder ode-vector-field/\n",
      "Processing sheet 1 EUT - Regions\n",
      "Creating/updating folder eut/\n",
      "Processing sheet 2 Higher-order DEs to systems\n",
      "Creating/updating folder high-to-system/\n",
      "Processing sheet 3 Systems to higher-order DEs\n",
      "Creating/updating folder System-to-high/\n",
      "Processing sheet 4 2nd-order System of ODEs\n",
      "Creating/updating folder system-2nd-order/\n",
      "Processing sheet 5 Exact DEs\n",
      "Creating/updating folder exact-de/\n",
      "Processing sheet 6 Wronskian of two functions\n",
      "Creating/updating folder wronskian/\n"
     ]
    }
   ],
   "source": [
    "tex2lms.process_mcq_spreadsheet(\"test_1_2022-1_MCQ.ods\",lms_url=lmsaddr,image_resolution=\"200\")"
   ]
  },
  {
   "cell_type": "code",
   "execution_count": 3,
   "id": "a1544126",
   "metadata": {},
   "outputs": [
    {
     "name": "stdout",
     "output_type": "stream",
     "text": [
      "Creating new spreadsheet with minimal columns to make a pool of MCQ questions\n",
      "Written template_mcq_database.ods\n"
     ]
    }
   ],
   "source": [
    "tex2lms.template_spreadsheet()"
   ]
  }
 ],
 "metadata": {
  "kernelspec": {
   "display_name": "Python 3 (ipykernel)",
   "language": "python",
   "name": "python3"
  },
  "language_info": {
   "codemirror_mode": {
    "name": "ipython",
    "version": 3
   },
   "file_extension": ".py",
   "mimetype": "text/x-python",
   "name": "python",
   "nbconvert_exporter": "python",
   "pygments_lexer": "ipython3",
   "version": "3.10.2"
  }
 },
 "nbformat": 4,
 "nbformat_minor": 5
}
